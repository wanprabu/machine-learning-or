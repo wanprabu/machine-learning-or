{
 "cells": [
  {
   "cell_type": "markdown",
   "id": "e9d8bc37-0a4a-4c34-8172-ec8cc5a80918",
   "metadata": {},
   "source": [
    "# K-Means\n",
    "\n",
    "K-means is one of popular clustering algorithms. The main goal is to find objects that have similarity and group these into $k$ clusters. In this lesson, you will learn how to develop clustering model based on K-means algorithm using Scikit-learn library. "
   ]
  },
  {
   "cell_type": "markdown",
   "id": "5a57ee4c-3293-45ee-8a22-4516264efa30",
   "metadata": {},
   "source": [
    "## Prepare the dataset\n"
   ]
  },
  {
   "cell_type": "code",
   "execution_count": null,
   "id": "4763960d-e5bd-4e5a-b1f4-d76df0c595d6",
   "metadata": {},
   "outputs": [],
   "source": [
    "import matplotlib.pyplot as plt\n",
    "import pandas as pd\n",
    "import seaborn as sns\n",
    "\n",
    "from sklearn.datasets import load_iris"
   ]
  },
  {
   "cell_type": "code",
   "execution_count": null,
   "id": "9cb49678-5820-4274-a146-7f5d6441745a",
   "metadata": {},
   "outputs": [],
   "source": [
    "iris = load_iris()\n",
    "iris.feature_names"
   ]
  },
  {
   "cell_type": "code",
   "execution_count": null,
   "id": "5f960a36-60f7-440d-a17a-d96e33e13706",
   "metadata": {},
   "outputs": [],
   "source": [
    "iris.target_names"
   ]
  },
  {
   "cell_type": "code",
   "execution_count": null,
   "id": "30be3e82-f842-4663-bb2c-1f64033dedae",
   "metadata": {},
   "outputs": [],
   "source": [
    "print(f\"Total records: {len(iris.data)}\")"
   ]
  },
  {
   "cell_type": "code",
   "execution_count": null,
   "id": "9ae842fe-6bb9-4dd6-9d12-8c814fb5ae17",
   "metadata": {},
   "outputs": [],
   "source": [
    "# convert into dataframe\n",
    "\n",
    "X = iris.data\n",
    "y = iris.target\n",
    "features = iris.feature_names\n",
    "species = [iris.target_names[i] for i in y]\n",
    "\n",
    "df = pd.DataFrame(X, columns = features)\n",
    "df['species'] = species\n",
    "df"
   ]
  },
  {
   "cell_type": "code",
   "execution_count": null,
   "id": "986ca584-a6f2-4d84-8dc0-46ddbb8f5025",
   "metadata": {},
   "outputs": [],
   "source": [
    "plt.figure(figsize=(12, 8))\n",
    "for i, feature in enumerate(features):\n",
    "    plt.subplot(2, 2, i+1)\n",
    "    sns.boxplot(x='species', y=feature, data=df)\n",
    "    plt.title(f\"Box Plot of {feature} by Species\")\n",
    "    plt.xlabel(\"Species\")\n",
    "    plt.ylabel(feature)\n",
    "\n",
    "plt.tight_layout()\n",
    "plt.show()"
   ]
  },
  {
   "cell_type": "markdown",
   "id": "16f3ae5b-aa0a-47a8-a5dc-f6e7e45334f3",
   "metadata": {},
   "source": [
    "## Fit models"
   ]
  },
  {
   "cell_type": "code",
   "execution_count": null,
   "id": "7ca78be4-6178-4ef7-8e80-4bd54d016cc2",
   "metadata": {},
   "outputs": [],
   "source": [
    "from sklearn.cluster import KMeans\n",
    "\n",
    "common_params = {\n",
    "    \"n_init\": \"auto\",\n",
    "    \"random_state\": 42,\n",
    "}\n",
    "\n",
    "# start with 2 clusters\n",
    "km = KMeans(n_clusters=2, **common_params)\n",
    "km.fit(X)\n",
    "\n",
    "y_pred = km.predict(X)\n",
    "y_pred"
   ]
  },
  {
   "cell_type": "code",
   "execution_count": null,
   "id": "984f54e5-018d-4ed0-bdf6-f8eb877994a0",
   "metadata": {},
   "outputs": [],
   "source": [
    "plt.scatter(X[:, 0], X[:, 1], c=y_pred)\n",
    "plt.title(\"K-Means with 2 Clusters\")\n",
    "plt.show()"
   ]
  },
  {
   "cell_type": "markdown",
   "id": "ff3433e3-c023-47e1-8daf-6a7072b9be22",
   "metadata": {},
   "source": [
    "## Evaluate the model"
   ]
  },
  {
   "cell_type": "code",
   "execution_count": null,
   "id": "5e1b5b35-d8f0-46e8-913d-93c9709b4e63",
   "metadata": {},
   "outputs": [],
   "source": [
    "from sklearn import metrics\n",
    "score = metrics.silhouette_score(X, y_pred)\n",
    "score"
   ]
  },
  {
   "cell_type": "code",
   "execution_count": null,
   "id": "d5fd950c-b8e9-4633-83ad-5bc3ed1a2e24",
   "metadata": {},
   "outputs": [],
   "source": [
    "# Calculate WCSS (Within-Cluster Sum of Squares) for Elbow method\n",
    "wcss = [] \n",
    "\n",
    "for i in range(1, 11):\n",
    "    kmeans = KMeans(n_clusters = i, init = 'k-means++', random_state = 42)\n",
    "    kmeans.fit(X)\n",
    "    wcss.append(kmeans.inertia_)"
   ]
  },
  {
   "cell_type": "code",
   "execution_count": null,
   "id": "36951abb-ea5c-4fd2-8916-b40e196a2b0e",
   "metadata": {},
   "outputs": [],
   "source": [
    "# plot elbow score\n",
    "plt.figure(figsize=(10,5))\n",
    "sns.lineplot(x=range(1, 11), y=wcss, marker='o',color='red')\n",
    "plt.title('Elbow')\n",
    "plt.xlabel('Number of clusters')\n",
    "plt.ylabel('WCSS')\n",
    "plt.show()"
   ]
  },
  {
   "cell_type": "code",
   "execution_count": null,
   "id": "e3567249-9c06-4e95-8c31-37c37f7d7b92",
   "metadata": {},
   "outputs": [],
   "source": [
    "# fit model with 3 clusters\n",
    "y_pred = KMeans(n_clusters=3, **common_params).fit_predict(X)\n",
    "y_pred"
   ]
  },
  {
   "cell_type": "code",
   "execution_count": null,
   "id": "67f34393-2eab-4519-a08b-8c594d1b8bbb",
   "metadata": {},
   "outputs": [],
   "source": [
    "# add a cluster column to dataframe\n",
    "df['cluster'] = y_pred\n",
    "\n",
    "# plot cluster results based on sepal features\n",
    "plt.figure(figsize=(8, 6))\n",
    "plt.scatter(df[features[0]], df[features[1]], c=df['cluster'], cmap='viridis', s=50)\n",
    "plt.scatter(km.cluster_centers_[:, 0], km.cluster_centers_[:, 1], c='red', marker='X', s=200, label='Centroids')\n",
    "plt.xlabel(features[0])\n",
    "plt.ylabel(features[1])\n",
    "plt.title(\"K-means Clustering on Iris Dataset\")\n",
    "plt.legend()\n",
    "plt.grid(True)\n",
    "plt.show()\n"
   ]
  },
  {
   "cell_type": "code",
   "execution_count": null,
   "id": "03923dcb-4395-4387-8289-61bdd3ff3bf5",
   "metadata": {},
   "outputs": [],
   "source": [
    "df['cluster'] = y_pred\n",
    "\n",
    "# plot cluster results based on petal features\n",
    "plt.figure(figsize=(8, 6))\n",
    "plt.scatter(df[features[2]], df[features[3]], c=df['cluster'], cmap='viridis', s=50)\n",
    "plt.scatter(km.cluster_centers_[:, 2], km.cluster_centers_[:, 3], c='red', marker='X', s=200, label='Centroids')\n",
    "plt.xlabel(features[2])\n",
    "plt.ylabel(features[3])\n",
    "plt.title(\"K-means Clustering on Iris Dataset\")\n",
    "plt.legend()\n",
    "plt.grid(True)\n",
    "plt.show()\n"
   ]
  },
  {
   "cell_type": "markdown",
   "id": "553f6d60-88ac-4ded-b301-a1877eb0b923",
   "metadata": {},
   "source": [
    "## Cluster with selected features"
   ]
  },
  {
   "cell_type": "code",
   "execution_count": null,
   "id": "ebce5901-2f51-4ba6-a365-8d3091d37ee4",
   "metadata": {},
   "outputs": [],
   "source": [
    "# use Sepal length and sepal width features only\n",
    "\n",
    "X_sepal = iris.data[:, :2]  \n",
    "feature_names = iris.feature_names[:2]\n",
    "\n",
    "km = KMeans(n_clusters=3, random_state=42)\n",
    "y_pred = km.fit_predict(X_sepal)\n",
    "\n",
    "y_pred"
   ]
  },
  {
   "cell_type": "code",
   "execution_count": null,
   "id": "79f8d8d2-87c9-46f1-bbbc-a692f65feaea",
   "metadata": {
    "editable": true,
    "slideshow": {
     "slide_type": ""
    },
    "tags": []
   },
   "outputs": [],
   "source": [
    "# create dataframe\n",
    "newDf = pd.DataFrame(X_sepal, columns=feature_names)\n",
    "newDf['cluster'] = y_pred\n",
    "\n",
    "# plot cluster results based on sepal features\n",
    "plt.figure(figsize=(8, 6))\n",
    "plt.scatter(newDf[feature_names[0]], newDf[feature_names[1]], c=newDf['cluster'], cmap='viridis', s=50)\n",
    "plt.scatter(km.cluster_centers_[:, 0], km.cluster_centers_[:, 1], c='red', marker='X', s=200, label='Centroids')\n",
    "plt.xlabel(feature_names[0])\n",
    "plt.ylabel(feature_names[1])\n",
    "plt.title(\"K-means Clustering with Sepal Features\")\n",
    "plt.legend()\n",
    "plt.grid(True)\n",
    "plt.show()"
   ]
  }
 ],
 "metadata": {
  "kernelspec": {
   "display_name": "Python 3 (ipykernel)",
   "language": "python",
   "name": "python3"
  },
  "language_info": {
   "codemirror_mode": {
    "name": "ipython",
    "version": 3
   },
   "file_extension": ".py",
   "mimetype": "text/x-python",
   "name": "python",
   "nbconvert_exporter": "python",
   "pygments_lexer": "ipython3",
   "version": "3.12.11"
  }
 },
 "nbformat": 4,
 "nbformat_minor": 5
}
