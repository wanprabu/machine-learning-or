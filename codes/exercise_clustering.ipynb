{
 "cells": [
  {
   "cell_type": "markdown",
   "id": "5c3680eb-5b5c-4f7d-a06c-1cdb606b7b44",
   "metadata": {},
   "source": [
    "# Clustering Exercises\n",
    "This exercise uses [Wholesale customer](https://archive.ics.uci.edu/dataset/292/wholesale+customers) dataset from UCI ML repository. The data represents annual spending of wholesale distributor on diverse product categories.\n",
    "\n",
    "You may install the repo package to access various dataset\n",
    "\n",
    "```bash\n",
    "pip install ucimlrepo\n",
    "```\n",
    "\n",
    "Then, import the package in your python code\n",
    "\n",
    "```python\n",
    "from ucimlrepo import fetch_ucirepo \n",
    "```\n",
    "\n",
    "To complete the exercise, you may refer to [Data Manipulation Tutorial](data_manipulation_tutorial.ipynb) and [K-Means clustering](k-means.ipynb)"
   ]
  },
  {
   "cell_type": "code",
   "execution_count": 1,
   "id": "9a55817a-84cf-4de5-a862-40c062715b68",
   "metadata": {},
   "outputs": [],
   "source": [
    "# import libraries\n",
    "import pandas as pd\n",
    "import matplotlib.pyplot as plt\n",
    "import seaborn as sns\n",
    "\n",
    "from sklearn.cluster import KMeans"
   ]
  },
  {
   "cell_type": "code",
   "execution_count": 2,
   "id": "8b9d17e0-6a59-4aa4-ba27-47450e29ae89",
   "metadata": {},
   "outputs": [
    {
     "data": {
      "text/html": [
       "<div>\n",
       "<style scoped>\n",
       "    .dataframe tbody tr th:only-of-type {\n",
       "        vertical-align: middle;\n",
       "    }\n",
       "\n",
       "    .dataframe tbody tr th {\n",
       "        vertical-align: top;\n",
       "    }\n",
       "\n",
       "    .dataframe thead th {\n",
       "        text-align: right;\n",
       "    }\n",
       "</style>\n",
       "<table border=\"1\" class=\"dataframe\">\n",
       "  <thead>\n",
       "    <tr style=\"text-align: right;\">\n",
       "      <th></th>\n",
       "      <th>Channel</th>\n",
       "      <th>Region</th>\n",
       "      <th>Fresh</th>\n",
       "      <th>Milk</th>\n",
       "      <th>Grocery</th>\n",
       "      <th>Frozen</th>\n",
       "      <th>Detergents_Paper</th>\n",
       "      <th>Delicassen</th>\n",
       "    </tr>\n",
       "  </thead>\n",
       "  <tbody>\n",
       "    <tr>\n",
       "      <th>0</th>\n",
       "      <td>2</td>\n",
       "      <td>3</td>\n",
       "      <td>12669</td>\n",
       "      <td>9656</td>\n",
       "      <td>7561</td>\n",
       "      <td>214</td>\n",
       "      <td>2674</td>\n",
       "      <td>1338</td>\n",
       "    </tr>\n",
       "    <tr>\n",
       "      <th>1</th>\n",
       "      <td>2</td>\n",
       "      <td>3</td>\n",
       "      <td>7057</td>\n",
       "      <td>9810</td>\n",
       "      <td>9568</td>\n",
       "      <td>1762</td>\n",
       "      <td>3293</td>\n",
       "      <td>1776</td>\n",
       "    </tr>\n",
       "    <tr>\n",
       "      <th>2</th>\n",
       "      <td>2</td>\n",
       "      <td>3</td>\n",
       "      <td>6353</td>\n",
       "      <td>8808</td>\n",
       "      <td>7684</td>\n",
       "      <td>2405</td>\n",
       "      <td>3516</td>\n",
       "      <td>7844</td>\n",
       "    </tr>\n",
       "    <tr>\n",
       "      <th>3</th>\n",
       "      <td>1</td>\n",
       "      <td>3</td>\n",
       "      <td>13265</td>\n",
       "      <td>1196</td>\n",
       "      <td>4221</td>\n",
       "      <td>6404</td>\n",
       "      <td>507</td>\n",
       "      <td>1788</td>\n",
       "    </tr>\n",
       "    <tr>\n",
       "      <th>4</th>\n",
       "      <td>2</td>\n",
       "      <td>3</td>\n",
       "      <td>22615</td>\n",
       "      <td>5410</td>\n",
       "      <td>7198</td>\n",
       "      <td>3915</td>\n",
       "      <td>1777</td>\n",
       "      <td>5185</td>\n",
       "    </tr>\n",
       "    <tr>\n",
       "      <th>...</th>\n",
       "      <td>...</td>\n",
       "      <td>...</td>\n",
       "      <td>...</td>\n",
       "      <td>...</td>\n",
       "      <td>...</td>\n",
       "      <td>...</td>\n",
       "      <td>...</td>\n",
       "      <td>...</td>\n",
       "    </tr>\n",
       "    <tr>\n",
       "      <th>435</th>\n",
       "      <td>1</td>\n",
       "      <td>3</td>\n",
       "      <td>29703</td>\n",
       "      <td>12051</td>\n",
       "      <td>16027</td>\n",
       "      <td>13135</td>\n",
       "      <td>182</td>\n",
       "      <td>2204</td>\n",
       "    </tr>\n",
       "    <tr>\n",
       "      <th>436</th>\n",
       "      <td>1</td>\n",
       "      <td>3</td>\n",
       "      <td>39228</td>\n",
       "      <td>1431</td>\n",
       "      <td>764</td>\n",
       "      <td>4510</td>\n",
       "      <td>93</td>\n",
       "      <td>2346</td>\n",
       "    </tr>\n",
       "    <tr>\n",
       "      <th>437</th>\n",
       "      <td>2</td>\n",
       "      <td>3</td>\n",
       "      <td>14531</td>\n",
       "      <td>15488</td>\n",
       "      <td>30243</td>\n",
       "      <td>437</td>\n",
       "      <td>14841</td>\n",
       "      <td>1867</td>\n",
       "    </tr>\n",
       "    <tr>\n",
       "      <th>438</th>\n",
       "      <td>1</td>\n",
       "      <td>3</td>\n",
       "      <td>10290</td>\n",
       "      <td>1981</td>\n",
       "      <td>2232</td>\n",
       "      <td>1038</td>\n",
       "      <td>168</td>\n",
       "      <td>2125</td>\n",
       "    </tr>\n",
       "    <tr>\n",
       "      <th>439</th>\n",
       "      <td>1</td>\n",
       "      <td>3</td>\n",
       "      <td>2787</td>\n",
       "      <td>1698</td>\n",
       "      <td>2510</td>\n",
       "      <td>65</td>\n",
       "      <td>477</td>\n",
       "      <td>52</td>\n",
       "    </tr>\n",
       "  </tbody>\n",
       "</table>\n",
       "<p>440 rows × 8 columns</p>\n",
       "</div>"
      ],
      "text/plain": [
       "     Channel  Region  Fresh   Milk  Grocery  Frozen  Detergents_Paper  \\\n",
       "0          2       3  12669   9656     7561     214              2674   \n",
       "1          2       3   7057   9810     9568    1762              3293   \n",
       "2          2       3   6353   8808     7684    2405              3516   \n",
       "3          1       3  13265   1196     4221    6404               507   \n",
       "4          2       3  22615   5410     7198    3915              1777   \n",
       "..       ...     ...    ...    ...      ...     ...               ...   \n",
       "435        1       3  29703  12051    16027   13135               182   \n",
       "436        1       3  39228   1431      764    4510                93   \n",
       "437        2       3  14531  15488    30243     437             14841   \n",
       "438        1       3  10290   1981     2232    1038               168   \n",
       "439        1       3   2787   1698     2510      65               477   \n",
       "\n",
       "     Delicassen  \n",
       "0          1338  \n",
       "1          1776  \n",
       "2          7844  \n",
       "3          1788  \n",
       "4          5185  \n",
       "..          ...  \n",
       "435        2204  \n",
       "436        2346  \n",
       "437        1867  \n",
       "438        2125  \n",
       "439          52  \n",
       "\n",
       "[440 rows x 8 columns]"
      ]
     },
     "execution_count": 2,
     "metadata": {},
     "output_type": "execute_result"
    }
   ],
   "source": [
    "# import dataset\n",
    "custDf = pd.read_csv('../dataset/wholesale_customers_data.csv')\n",
    "custDf"
   ]
  },
  {
   "cell_type": "markdown",
   "id": "e56c403c-b361-47f2-b4c6-cc0b6c320e8f",
   "metadata": {},
   "source": [
    "## Exercise 1\n",
    "Try to get basic information of the dataset and statistical summary"
   ]
  },
  {
   "cell_type": "code",
   "execution_count": null,
   "id": "9a1c951e-e934-4df0-8868-9c716acd1304",
   "metadata": {},
   "outputs": [],
   "source": []
  },
  {
   "cell_type": "markdown",
   "id": "1ea06add-2986-46e0-8b58-84ff0cf2d1f9",
   "metadata": {},
   "source": [
    "<details>\n",
    "  <summary>Click for answer</summary>\n",
    "    \n",
    "  ```python\n",
    "  # display basic info\n",
    "  custDf.info()\n",
    "  \n",
    "  # statistical summary with 2 decimal places\n",
    "  custDf.describe().round(2)"
   ]
  },
  {
   "cell_type": "markdown",
   "id": "9c3ddd8d-1626-4605-ad26-0a4ddaf73162",
   "metadata": {},
   "source": [
    "## Exercise 2\n",
    "Group the dataset based on `Channel` and `Region` with aggregation using `min`, `mean`, `max`."
   ]
  },
  {
   "cell_type": "code",
   "execution_count": null,
   "id": "a7031dc5-e6e8-4007-b836-b7ecddaceada",
   "metadata": {},
   "outputs": [],
   "source": []
  },
  {
   "cell_type": "markdown",
   "id": "ef1a89ac-2ff8-4e6e-a603-2d600b56df7e",
   "metadata": {},
   "source": [
    "<details>\n",
    "  <summary>Click for answer</summary>\n",
    "    \n",
    "  ```python\n",
    "  # grouping and aggregation\n",
    "  custDf.groupby(['Channel','Region']).agg(['min','mean','max']).round(2)  "
   ]
  },
  {
   "cell_type": "markdown",
   "id": "2c6432c8-ac3a-4464-b46a-489b33904416",
   "metadata": {},
   "source": [
    "The table maybe is too long to scroll down. Now try to transpose the result."
   ]
  },
  {
   "cell_type": "code",
   "execution_count": null,
   "id": "5002decf-f1be-4ba7-aae9-ed883403cdaf",
   "metadata": {},
   "outputs": [],
   "source": []
  },
  {
   "cell_type": "markdown",
   "id": "74ecc8a1-31e5-4816-9175-e9e3e7cded3d",
   "metadata": {},
   "source": [
    "<details>\n",
    "  <summary>Click for answer</summary>\n",
    "    \n",
    "  ```python\n",
    "  # transpose dataframe\n",
    "  custDf.groupby(['Channel','Region']).agg(['min','mean','max']).round(2).T"
   ]
  },
  {
   "cell_type": "markdown",
   "id": "9561ad0d-9d05-4e3d-a865-bd305397e819",
   "metadata": {},
   "source": [
    "## Exercise 3\n",
    "Make a box plot for each product. Refer to https://seaborn.pydata.org/examples/horizontal_boxplot.html"
   ]
  },
  {
   "cell_type": "code",
   "execution_count": null,
   "id": "d61008a3-b39c-49e5-834f-81777368bd4f",
   "metadata": {},
   "outputs": [],
   "source": []
  },
  {
   "cell_type": "markdown",
   "id": "7a2a52b9-bbc8-4608-863b-b134d3cb7386",
   "metadata": {},
   "source": [
    "<details>\n",
    "  <summary>Click for answer</summary>\n",
    "    Replace `Fresh` with another product to get corresponding plot\n",
    "    \n",
    "  ```python\n",
    "  sns.boxplot(x=custDf['Fresh'])"
   ]
  },
  {
   "cell_type": "markdown",
   "id": "3bb56471-a897-4973-84ff-b28360fa5d9d",
   "metadata": {},
   "source": [
    "Put all boxplots into one figure"
   ]
  },
  {
   "cell_type": "code",
   "execution_count": null,
   "id": "963e2f3b-b89e-45f3-990a-cc136763f890",
   "metadata": {},
   "outputs": [],
   "source": []
  },
  {
   "cell_type": "markdown",
   "id": "c6457dfa-0e6f-4082-9ed2-38a857bfe06f",
   "metadata": {},
   "source": [
    "<details>\n",
    "  <summary>Click for answer</summary>\n",
    "    \n",
    "  ```python\n",
    "    cm = 1/2.54\n",
    "    textsize_labels = 6.5\n",
    "    textsize_ticks = 6\n",
    "    products = ['Fresh', 'Milk', 'Grocery', 'Frozen', 'Detergents_Paper', 'Delicassen']\n",
    "\n",
    "    fig = plt.figure(figsize=(15*cm,12*cm), dpi=300)\n",
    "    fig.tight_layout()\n",
    "\n",
    "    # grid specs containing 3 rows and 2 columns\n",
    "    gs = plt.GridSpec(3, 2, hspace=0.5, wspace=0.2)\n",
    "\n",
    "    # create axis for subplot\n",
    "    axes = [fig.add_subplot(gs[i]) for i in range(len(products))]\n",
    "\n",
    "    # iterate through products list to create subplot of boxplot\n",
    "    for index, prod in enumerate(products):\n",
    "        sns.boxplot(x=custDf[prod], ax=axes[index], linewidth=0.5, fliersize=3)\n",
    "        axes[index].tick_params(labelsize = textsize_ticks)\n",
    "        axes[index].set_xlabel(prod, fontsize=textsize_labels)\n"
   ]
  },
  {
   "cell_type": "markdown",
   "id": "cf663d73-6a6c-42b5-9090-3342ced2085c",
   "metadata": {},
   "source": [
    "## Exercise 4\n",
    "Fit K-means clustering model using product categories as features with initial 2 clusters"
   ]
  },
  {
   "cell_type": "code",
   "execution_count": null,
   "id": "41e24e68-3bb9-4619-81c0-3608932cb4c7",
   "metadata": {},
   "outputs": [],
   "source": []
  },
  {
   "cell_type": "markdown",
   "id": "4c892a28-4c75-4761-b1cd-ddbc6046645c",
   "metadata": {},
   "source": [
    "<details>\n",
    "  <summary>Click for answer</summary>\n",
    "        \n",
    "  ```python\n",
    "    features = ['Fresh', 'Milk', 'Grocery', 'Frozen', 'Detergents_Paper', 'Delicassen']\n",
    "    X = custDf[features]\n",
    "    \n",
    "    # fit k-means model\n",
    "    km = KMeans(n_clusters=2, random_state=42)\n",
    "    km.fit(X)\n",
    "    \n",
    "    y_pred = km.predict(X)\n",
    "    y_pred"
   ]
  },
  {
   "cell_type": "markdown",
   "id": "aa401bb0-841b-4208-8abe-f74610887b21",
   "metadata": {},
   "source": [
    "Plot the clusters with x-axis refers to `Fresh` and y-axis refers to `Milk`"
   ]
  },
  {
   "cell_type": "code",
   "execution_count": null,
   "id": "77c1a80b-1fe5-4fc3-b72b-9229ea424603",
   "metadata": {},
   "outputs": [],
   "source": []
  },
  {
   "cell_type": "markdown",
   "id": "9b51c4b2-27f0-4d48-833c-5ec8017f6a59",
   "metadata": {},
   "source": [
    "<details>\n",
    "  <summary>Click for answer</summary>\n",
    "        \n",
    "  ```python\n",
    "    # make a copy dataframe of X\n",
    "    df = X.copy(deep=True)\n",
    "    df['cluster'] = y_pred\n",
    "    \n",
    "    # plot cluster results\n",
    "    plt.figure(figsize=(8, 6))\n",
    "    plt.scatter(df['Fresh'], df['Milk'], c=df['cluster'], cmap='viridis', s=50)\n",
    "    plt.scatter(km.cluster_centers_[:, 0], km.cluster_centers_[:, 1], c='red', marker='X', s=200, label='Centroids')\n",
    "    plt.xlabel('Fresh')\n",
    "    plt.ylabel('Milk')\n",
    "    plt.title(\"K-means Clustering on Wholesale Dataset\")\n",
    "    plt.legend()\n",
    "    plt.grid(True)\n",
    "    plt.show()"
   ]
  },
  {
   "cell_type": "markdown",
   "id": "2706cf01-4531-4f62-9d2d-45f6ab5f16e8",
   "metadata": {
    "editable": true,
    "slideshow": {
     "slide_type": ""
    },
    "tags": []
   },
   "source": [
    "## Exercise 5\n",
    "Evaluate the cluster with Silhouette score"
   ]
  },
  {
   "cell_type": "code",
   "execution_count": null,
   "id": "217f749d-6a8c-4ef4-b986-cb9760090d9f",
   "metadata": {},
   "outputs": [],
   "source": []
  },
  {
   "cell_type": "markdown",
   "id": "3a4bf175-89c7-41c2-864f-5e1ca9fc3caf",
   "metadata": {},
   "source": [
    "<details>\n",
    "  <summary>Click for answer</summary>\n",
    "        \n",
    "  ```python\n",
    "    from sklearn import metrics\n",
    "    score = metrics.silhouette_score(X, y_pred)\n",
    "    score"
   ]
  },
  {
   "cell_type": "markdown",
   "id": "8f6aa968-8914-4119-ab7a-11ebdd0d50b1",
   "metadata": {},
   "source": [
    "Find a good number of clusters using Elbow method"
   ]
  },
  {
   "cell_type": "code",
   "execution_count": null,
   "id": "38641f70-4ee6-4327-80b0-cde9c4cd623f",
   "metadata": {},
   "outputs": [],
   "source": []
  },
  {
   "cell_type": "markdown",
   "id": "28032833-37a9-405b-bf72-0d477ded08dd",
   "metadata": {},
   "source": [
    "<details>\n",
    "  <summary>Click for answer</summary>\n",
    "        \n",
    "  ```python\n",
    "    # Calculate WCSS (Within-Cluster Sum of Squares) for Elbow method\n",
    "    wcss = [] \n",
    "    \n",
    "    for i in range(1, 11):\n",
    "        kmeans = KMeans(n_clusters = i, init = 'k-means++', random_state = 42)\n",
    "        kmeans.fit(X)\n",
    "        wcss.append(kmeans.inertia_)\n",
    "\n",
    "    # plot elbow score\n",
    "    plt.figure(figsize=(10,5))\n",
    "    sns.lineplot(x=range(1, 11), y=wcss, marker='o',color='red')\n",
    "    plt.title('Elbow')\n",
    "    plt.xlabel('Number of clusters')\n",
    "    plt.ylabel('WCSS')\n",
    "    plt.show()"
   ]
  },
  {
   "cell_type": "markdown",
   "id": "d42e03c1-a97c-4e40-b1f9-e2b227aa565f",
   "metadata": {},
   "source": [
    "## Exercise 6\n",
    "Fit K-means model with another number of cluster, then plot the cluster results"
   ]
  },
  {
   "cell_type": "code",
   "execution_count": null,
   "id": "eb266c10-6a94-4251-8f0a-e5b345efd934",
   "metadata": {},
   "outputs": [],
   "source": []
  },
  {
   "cell_type": "markdown",
   "id": "d04a3fbe-ed31-428b-9c21-91bf7b6c3de8",
   "metadata": {},
   "source": [
    "<details>\n",
    "  <summary>Click for answer</summary>\n",
    "        \n",
    "  ```python\n",
    "    # fit k-means model with 4 clusters\n",
    "    km = KMeans(n_clusters=4, random_state=42)\n",
    "    km.fit(X)\n",
    "    \n",
    "    y_pred = km.predict(X)\n",
    "    y_pred\n",
    "    \n",
    "    # make a copy dataframe of X\n",
    "    df = X.copy(deep=True)\n",
    "    df['cluster'] = y_pred\n",
    "    \n",
    "    # plot cluster results\n",
    "    plt.figure(figsize=(8, 6))\n",
    "    plt.scatter(df['Fresh'], df['Milk'], c=df['cluster'], cmap='viridis', s=50)\n",
    "    plt.scatter(km.cluster_centers_[:, 0], km.cluster_centers_[:, 1], c='red', marker='X', s=200, label='Centroids')\n",
    "    plt.xlabel('Fresh')\n",
    "    plt.ylabel('Milk')\n",
    "    plt.title(\"K-means Clustering on Wholesale Dataset - 4 clusters\")\n",
    "    plt.legend()\n",
    "    plt.grid(True)\n",
    "    plt.show()"
   ]
  },
  {
   "cell_type": "markdown",
   "id": "259d4ba3-d7d7-4704-a68f-50cb5d0aa8e2",
   "metadata": {},
   "source": [
    "Fit K-means model with selected number of features, then plot the cluster results"
   ]
  },
  {
   "cell_type": "code",
   "execution_count": null,
   "id": "ff6629ff-5d0e-4f7a-968c-3fe84a6fc6b1",
   "metadata": {},
   "outputs": [],
   "source": []
  },
  {
   "cell_type": "markdown",
   "id": "04870412-a08b-4fee-8b6e-d9fd0fa6e2d5",
   "metadata": {},
   "source": [
    "<details>\n",
    "  <summary>Click for answer</summary>\n",
    "        \n",
    "  ```python\n",
    "    # create new variable with two selected features: 'Fresh', 'Detergents_Paper'\n",
    "    X_selected_features = X[['Fresh', 'Detergents_Paper']]\n",
    "    \n",
    "    # fit k-means model with 4 clusters\n",
    "    km = KMeans(n_clusters=4, random_state=42)\n",
    "    km.fit(X_selected_features)\n",
    "    \n",
    "    y_pred = km.predict(X_selected_features)\n",
    "    y_pred\n",
    "    \n",
    "    # make a copy dataframe of X\n",
    "    df = pd.DataFrame(X_selected_features)\n",
    "    df['cluster'] = y_pred\n",
    "    \n",
    "    # plot cluster results\n",
    "    plt.figure(figsize=(8, 6))\n",
    "    plt.scatter(df['Fresh'], df['Detergents_Paper'], c=df['cluster'], cmap='viridis', s=50)\n",
    "    plt.scatter(km.cluster_centers_[:, 0], km.cluster_centers_[:, 1], c='red', marker='X', s=200, label='Centroids')\n",
    "    plt.xlabel('Fresh')\n",
    "    plt.ylabel('Detergents_Paper')\n",
    "    plt.title(\"K-means Clustering on Wholesale Dataset - 4 clusters\")\n",
    "    plt.legend()\n",
    "    plt.grid(True)\n",
    "    plt.show()"
   ]
  }
 ],
 "metadata": {
  "kernelspec": {
   "display_name": "Python 3 (ipykernel)",
   "language": "python",
   "name": "python3"
  },
  "language_info": {
   "codemirror_mode": {
    "name": "ipython",
    "version": 3
   },
   "file_extension": ".py",
   "mimetype": "text/x-python",
   "name": "python",
   "nbconvert_exporter": "python",
   "pygments_lexer": "ipython3",
   "version": "3.12.11"
  }
 },
 "nbformat": 4,
 "nbformat_minor": 5
}
