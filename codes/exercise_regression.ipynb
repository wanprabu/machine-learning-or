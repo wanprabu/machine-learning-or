{
 "cells": [
  {
   "cell_type": "markdown",
   "id": "9513897f-9407-4004-b2c2-42132b82b2a4",
   "metadata": {},
   "source": [
    "# Regression Exercises\n",
    "\n",
    "This exercise uses [students score on Portugese](../dataset/student-por.csv) subject. To complete this exercise, please refer to [regression](regression.ipynb) notebook."
   ]
  },
  {
   "cell_type": "code",
   "execution_count": 1,
   "id": "82367b54-9fed-401b-a32d-a2d72f5eca2a",
   "metadata": {},
   "outputs": [],
   "source": [
    "# load libraries\n",
    "import matplotlib.pyplot as plt\n",
    "import pandas as pd\n",
    "import seaborn as sns"
   ]
  },
  {
   "cell_type": "code",
   "execution_count": 2,
   "id": "dcfb710a-f8d0-4933-844d-b0a4248681d4",
   "metadata": {},
   "outputs": [
    {
     "data": {
      "text/html": [
       "<div>\n",
       "<style scoped>\n",
       "    .dataframe tbody tr th:only-of-type {\n",
       "        vertical-align: middle;\n",
       "    }\n",
       "\n",
       "    .dataframe tbody tr th {\n",
       "        vertical-align: top;\n",
       "    }\n",
       "\n",
       "    .dataframe thead th {\n",
       "        text-align: right;\n",
       "    }\n",
       "</style>\n",
       "<table border=\"1\" class=\"dataframe\">\n",
       "  <thead>\n",
       "    <tr style=\"text-align: right;\">\n",
       "      <th></th>\n",
       "      <th>school</th>\n",
       "      <th>sex</th>\n",
       "      <th>age</th>\n",
       "      <th>address</th>\n",
       "      <th>famsize</th>\n",
       "      <th>Pstatus</th>\n",
       "      <th>Medu</th>\n",
       "      <th>Fedu</th>\n",
       "      <th>Mjob</th>\n",
       "      <th>Fjob</th>\n",
       "      <th>...</th>\n",
       "      <th>famrel</th>\n",
       "      <th>freetime</th>\n",
       "      <th>goout</th>\n",
       "      <th>Dalc</th>\n",
       "      <th>Walc</th>\n",
       "      <th>health</th>\n",
       "      <th>absences</th>\n",
       "      <th>G1</th>\n",
       "      <th>G2</th>\n",
       "      <th>G3</th>\n",
       "    </tr>\n",
       "  </thead>\n",
       "  <tbody>\n",
       "    <tr>\n",
       "      <th>0</th>\n",
       "      <td>GP</td>\n",
       "      <td>F</td>\n",
       "      <td>18</td>\n",
       "      <td>U</td>\n",
       "      <td>GT3</td>\n",
       "      <td>A</td>\n",
       "      <td>4</td>\n",
       "      <td>4</td>\n",
       "      <td>at_home</td>\n",
       "      <td>teacher</td>\n",
       "      <td>...</td>\n",
       "      <td>4</td>\n",
       "      <td>3</td>\n",
       "      <td>4</td>\n",
       "      <td>1</td>\n",
       "      <td>1</td>\n",
       "      <td>3</td>\n",
       "      <td>4</td>\n",
       "      <td>0</td>\n",
       "      <td>11</td>\n",
       "      <td>11</td>\n",
       "    </tr>\n",
       "    <tr>\n",
       "      <th>1</th>\n",
       "      <td>GP</td>\n",
       "      <td>F</td>\n",
       "      <td>17</td>\n",
       "      <td>U</td>\n",
       "      <td>GT3</td>\n",
       "      <td>T</td>\n",
       "      <td>1</td>\n",
       "      <td>1</td>\n",
       "      <td>at_home</td>\n",
       "      <td>other</td>\n",
       "      <td>...</td>\n",
       "      <td>5</td>\n",
       "      <td>3</td>\n",
       "      <td>3</td>\n",
       "      <td>1</td>\n",
       "      <td>1</td>\n",
       "      <td>3</td>\n",
       "      <td>2</td>\n",
       "      <td>9</td>\n",
       "      <td>11</td>\n",
       "      <td>11</td>\n",
       "    </tr>\n",
       "    <tr>\n",
       "      <th>2</th>\n",
       "      <td>GP</td>\n",
       "      <td>F</td>\n",
       "      <td>15</td>\n",
       "      <td>U</td>\n",
       "      <td>LE3</td>\n",
       "      <td>T</td>\n",
       "      <td>1</td>\n",
       "      <td>1</td>\n",
       "      <td>at_home</td>\n",
       "      <td>other</td>\n",
       "      <td>...</td>\n",
       "      <td>4</td>\n",
       "      <td>3</td>\n",
       "      <td>2</td>\n",
       "      <td>2</td>\n",
       "      <td>3</td>\n",
       "      <td>3</td>\n",
       "      <td>6</td>\n",
       "      <td>12</td>\n",
       "      <td>13</td>\n",
       "      <td>12</td>\n",
       "    </tr>\n",
       "    <tr>\n",
       "      <th>3</th>\n",
       "      <td>GP</td>\n",
       "      <td>F</td>\n",
       "      <td>15</td>\n",
       "      <td>U</td>\n",
       "      <td>GT3</td>\n",
       "      <td>T</td>\n",
       "      <td>4</td>\n",
       "      <td>2</td>\n",
       "      <td>health</td>\n",
       "      <td>services</td>\n",
       "      <td>...</td>\n",
       "      <td>3</td>\n",
       "      <td>2</td>\n",
       "      <td>2</td>\n",
       "      <td>1</td>\n",
       "      <td>1</td>\n",
       "      <td>5</td>\n",
       "      <td>0</td>\n",
       "      <td>14</td>\n",
       "      <td>14</td>\n",
       "      <td>14</td>\n",
       "    </tr>\n",
       "    <tr>\n",
       "      <th>4</th>\n",
       "      <td>GP</td>\n",
       "      <td>F</td>\n",
       "      <td>16</td>\n",
       "      <td>U</td>\n",
       "      <td>GT3</td>\n",
       "      <td>T</td>\n",
       "      <td>3</td>\n",
       "      <td>3</td>\n",
       "      <td>other</td>\n",
       "      <td>other</td>\n",
       "      <td>...</td>\n",
       "      <td>4</td>\n",
       "      <td>3</td>\n",
       "      <td>2</td>\n",
       "      <td>1</td>\n",
       "      <td>2</td>\n",
       "      <td>5</td>\n",
       "      <td>0</td>\n",
       "      <td>11</td>\n",
       "      <td>13</td>\n",
       "      <td>13</td>\n",
       "    </tr>\n",
       "  </tbody>\n",
       "</table>\n",
       "<p>5 rows × 33 columns</p>\n",
       "</div>"
      ],
      "text/plain": [
       "  school sex  age address famsize Pstatus  Medu  Fedu     Mjob      Fjob  ...  \\\n",
       "0     GP   F   18       U     GT3       A     4     4  at_home   teacher  ...   \n",
       "1     GP   F   17       U     GT3       T     1     1  at_home     other  ...   \n",
       "2     GP   F   15       U     LE3       T     1     1  at_home     other  ...   \n",
       "3     GP   F   15       U     GT3       T     4     2   health  services  ...   \n",
       "4     GP   F   16       U     GT3       T     3     3    other     other  ...   \n",
       "\n",
       "  famrel freetime  goout  Dalc  Walc health absences  G1  G2  G3  \n",
       "0      4        3      4     1     1      3        4   0  11  11  \n",
       "1      5        3      3     1     1      3        2   9  11  11  \n",
       "2      4        3      2     2     3      3        6  12  13  12  \n",
       "3      3        2      2     1     1      5        0  14  14  14  \n",
       "4      4        3      2     1     2      5        0  11  13  13  \n",
       "\n",
       "[5 rows x 33 columns]"
      ]
     },
     "execution_count": 2,
     "metadata": {},
     "output_type": "execute_result"
    }
   ],
   "source": [
    "studentPorDf = pd.read_csv('../dataset/student-por.csv')\n",
    "studentPorDf.head()"
   ]
  },
  {
   "cell_type": "markdown",
   "id": "f2f7bf94-d128-4f06-8656-1398e94d35d5",
   "metadata": {},
   "source": [
    "## Exercise 1\n",
    "Try to get basic information of the dataset and statistical summary"
   ]
  },
  {
   "cell_type": "code",
   "execution_count": null,
   "id": "ada964a4-95ef-4ac9-b60d-25bee18b5b47",
   "metadata": {},
   "outputs": [],
   "source": []
  },
  {
   "cell_type": "markdown",
   "id": "5eb52e39-64e5-4d39-9941-363a81224184",
   "metadata": {},
   "source": [
    "<details>\n",
    "  <summary>Click for answer</summary>\n",
    "    \n",
    "  ```python\n",
    "  # display basic info\n",
    "  studentPorDf.info()\n",
    "  \n",
    "  # statistical summary with 2 decimal places\n",
    "  studentPorDf.describe().round(2)"
   ]
  },
  {
   "cell_type": "markdown",
   "id": "2188fc13-d730-456e-9c42-372cec8867f9",
   "metadata": {},
   "source": [
    "## Exercise 2\n",
    "Group dataset based on `famsize` and `Fjob`,  then calculate the following column aggregate \n",
    "- **`absences`**: `sum`, `max`\n",
    "- **`studytime`**: `sum`, `mean`, `max`\n",
    "- **`G1`**: `min`, `mean`, `max`, `sd`\n",
    "- **`G2`**: `min`, `mean`, `max`, `sd`\n",
    "- **`G3`**: `min`, `mean`, `max`, `sd`"
   ]
  },
  {
   "cell_type": "code",
   "execution_count": null,
   "id": "24d08318-edcd-4132-88d4-561377a78c73",
   "metadata": {},
   "outputs": [],
   "source": []
  },
  {
   "cell_type": "markdown",
   "id": "ae07e1e1-079e-47a5-9650-30fc93d97e21",
   "metadata": {},
   "source": [
    "<details>\n",
    "  <summary>Click for answer</summary>\n",
    "    \n",
    "  ```python\n",
    "  studentPorDf.groupby(['famsize', 'Fjob']).agg({'absences': ['sum', 'max'], 'studytime': ['sum', 'mean', 'max'], \n",
    "                                              'G1': ['min', 'mean', 'max', 'std'], 'G2': ['min', 'mean', 'max', 'std'],\n",
    "                                              'G3': ['min', 'mean', 'max', 'std']}).round(2)"
   ]
  },
  {
   "cell_type": "markdown",
   "id": "b9490277-e0cb-4497-900d-826141e9a410",
   "metadata": {},
   "source": [
    "## Exercise 3\n",
    "Calculate the correlation matrix of numeric variables"
   ]
  },
  {
   "cell_type": "code",
   "execution_count": null,
   "id": "7a5441f7-a367-47af-bc20-4f1d43e8ce38",
   "metadata": {},
   "outputs": [],
   "source": []
  },
  {
   "cell_type": "markdown",
   "id": "d42ba09e-18be-47d3-ac8f-a0eaa2cf09de",
   "metadata": {},
   "source": [
    "<details>\n",
    "  <summary>Click for answer</summary>\n",
    "    \n",
    "  ```python\n",
    "  stPor_correlation = studentPorDf.select_dtypes(include=['number']).corr().round(3)\n",
    "  stPor_correlation"
   ]
  },
  {
   "cell_type": "markdown",
   "id": "d5e67ed0-0541-4527-a449-0f115b4acf54",
   "metadata": {},
   "source": [
    "## Exercise 4\n",
    "Make a correlation heatmap plot of numeric variables"
   ]
  },
  {
   "cell_type": "code",
   "execution_count": null,
   "id": "87cc9306-b729-49a7-ab56-1cbde8cd855a",
   "metadata": {},
   "outputs": [],
   "source": []
  },
  {
   "cell_type": "markdown",
   "id": "7d3a6e6b-80e8-45ed-84d0-ef0725e99730",
   "metadata": {},
   "source": [
    "<details>\n",
    "  <summary>Click for answer</summary>\n",
    "    \n",
    "  ```python\n",
    "  plt.figure(figsize=(12,6))\n",
    "sns.heatmap(stPor_correlation, annot=True, cmap='coolwarm', fmt='.2f')"
   ]
  },
  {
   "cell_type": "markdown",
   "id": "f0bc94fd-058f-4df3-825e-c033d66435b7",
   "metadata": {},
   "source": [
    "## Exercise 5\n",
    "1. Select three features that you consider will contribute to the prediction performance, except **G1** and **G2**.\n",
    "2. Use **G3** as a target to be predicted.\n",
    "3. Then, split dataset into `train` and `test` set with the proportion of **80%** and **20%**, respectively."
   ]
  },
  {
   "cell_type": "code",
   "execution_count": null,
   "id": "259fe3f3-46cf-4e66-a06e-4a0aa151f341",
   "metadata": {},
   "outputs": [],
   "source": []
  },
  {
   "cell_type": "markdown",
   "id": "fee871cf-85aa-4cde-9f1b-7b9bad26ca63",
   "metadata": {},
   "source": [
    "<details>\n",
    "  <summary>Click for answer</summary>\n",
    "    \n",
    "  ```python\n",
    "    # do not forget to import the following library\n",
    "    from sklearn.model_selection import train_test_split\n",
    "\n",
    "    X = studentPorDf[['Medu', 'Fedu', 'studytime']] # features for predictor. you may try other features\n",
    "    y = studentPorDf['G3'].to_numpy().reshape(-1, 1) # target to predict\n",
    "\n",
    "    # split dataset\n",
    "    X_train, X_test, y_train, y_test = train_test_split(X, y, test_size=0.2, random_state=42)"
   ]
  },
  {
   "cell_type": "markdown",
   "id": "f38360ad-83fd-4f4b-b5a2-4fc90d530795",
   "metadata": {},
   "source": [
    "## Exercise 6\n",
    "1. Make a linear regression model and fit using train set.\n",
    "2. Make prediction using test set.\n",
    "3. Evaluate the model performance using `MAE`, `MAPE`, `MSE`, `RMSE`, and `R²` metrics."
   ]
  },
  {
   "cell_type": "code",
   "execution_count": null,
   "id": "164300d6-bf17-4679-9d9a-2ce3bcc6ea85",
   "metadata": {},
   "outputs": [],
   "source": []
  },
  {
   "cell_type": "markdown",
   "id": "899f3fc4-f04a-4249-aec2-d71e5319d4fc",
   "metadata": {},
   "source": [
    "<details>\n",
    "  <summary>Click for answer</summary>\n",
    "    \n",
    "  ```python\n",
    "    # load metrics for evaluation\n",
    "    from sklearn.metrics import mean_squared_error, root_mean_squared_error, mean_absolute_error, r2_score\n",
    "    \n",
    "    # fit the linear regression model with multiple features\n",
    "    reg_model = LinearRegression()\n",
    "    reg_model.fit(X_train, y_train)\n",
    "    \n",
    "    # predict using test dataset\n",
    "    y_pred = reg_model.predict(X_test)\n",
    "    \n",
    "    # evaluate the model\n",
    "    mae = mean_absolute_error(y_test, y_pred)\n",
    "    mse = mean_squared_error(y_test, y_pred)\n",
    "    rmse = root_mean_squared_error(y_test, y_pred)\n",
    "    r2 = r2_score(y_test, y_pred)\n",
    "    \n",
    "    print(f\"MAE: {mae:.4f}\")\n",
    "    print(f\"MAPE: {mae/ y_test.mean() *100:.2f}\")\n",
    "    print(f\"MSE: {mse:.4f}\")\n",
    "    print(f\"RMSE: {rmse:.4f}\")\n",
    "    print(f\"R² Score: {r2:.4f}\")\n",
    "    \n",
    "    score = reg_model.score(X_train, y_train)\n",
    "    print(f'Model determination: {score:.4f}')"
   ]
  },
  {
   "cell_type": "markdown",
   "id": "4710a2d3-63f7-42a8-8829-087affbfd5a3",
   "metadata": {},
   "source": [
    "## Exercise 7\n",
    "Plot the comparison of `test` and `predicted` values."
   ]
  },
  {
   "cell_type": "code",
   "execution_count": null,
   "id": "a432d409-b6e8-4e70-9260-76611e251f25",
   "metadata": {},
   "outputs": [],
   "source": []
  },
  {
   "cell_type": "markdown",
   "id": "99eac1a2-6412-4ce6-a5f8-b910ae10387f",
   "metadata": {},
   "source": [
    "<details>\n",
    "  <summary>Click for answer</summary>\n",
    "    \n",
    "  ```python\n",
    "    # plot between true value and predicted value of G3 score\n",
    "    plt.scatter(y_test, y_pred)\n",
    "    plt.plot([0, max(y_test[0])], [0, max(y_pred[0])], '--k')\n",
    "    plt.xlabel('True G3 score')\n",
    "    plt.ylabel('Predicted G3 score')"
   ]
  },
  {
   "cell_type": "markdown",
   "id": "35ea075d-3bf6-4c4f-ad14-02fc57a9fed0",
   "metadata": {},
   "source": [
    "## 🧠 Does your model perform well?\n",
    "\n",
    "If you don't think so, improve the model!"
   ]
  },
  {
   "cell_type": "code",
   "execution_count": null,
   "id": "dae906c8-8efb-405a-a0c1-80f81bf5774f",
   "metadata": {},
   "outputs": [],
   "source": []
  }
 ],
 "metadata": {
  "kernelspec": {
   "display_name": "Python 3 (ipykernel)",
   "language": "python",
   "name": "python3"
  },
  "language_info": {
   "codemirror_mode": {
    "name": "ipython",
    "version": 3
   },
   "file_extension": ".py",
   "mimetype": "text/x-python",
   "name": "python",
   "nbconvert_exporter": "python",
   "pygments_lexer": "ipython3",
   "version": "3.12.11"
  }
 },
 "nbformat": 4,
 "nbformat_minor": 5
}
